{
 "cells": [
  {
   "cell_type": "code",
   "execution_count": 1,
   "id": "f0776b36-3833-4d21-87a9-bdf4a95a3641",
   "metadata": {},
   "outputs": [
    {
     "name": "stdout",
     "output_type": "stream",
     "text": [
      "Saved artifacts/agent_run_report.json\n"
     ]
    }
   ],
   "source": [
    "import json, pathlib, time\n",
    "from os import environ\n",
    "\n",
    "report = {\n",
    "    \"timestamp\": int(time.time()),\n",
    "    \"model\": environ.get(\"LLM_MODEL_ID\"),\n",
    "    \"endpoint\": environ.get(\"LLAMA_STACK_URL\"),\n",
    "    \"sampling_params\": {\n",
    "        \"temperature\": environ.get(\"TEMPERATURE\"),\n",
    "        \"max_tokens\": environ.get(\"MAX_TOKENS\"),\n",
    "    },\n",
    "    \"task\": \"<your final user task>\",\n",
    "    \"final_answer\": \"<paste the agent’s final answer or summary>\",\n",
    "}\n",
    "pathlib.Path(\"artifacts\").mkdir(exist_ok=True)\n",
    "with open(\"artifacts/agent_run_report.json\", \"w\") as f:\n",
    "    json.dump(report, f, indent=2)\n",
    "print(\"Saved artifacts/agent_run_report.json\")"
   ]
  },
  {
   "cell_type": "code",
   "execution_count": null,
   "id": "5b57d919-1cb9-48ba-9807-009d7c733aa2",
   "metadata": {},
   "outputs": [],
   "source": []
  }
 ],
 "metadata": {
  "kernelspec": {
   "display_name": "Python 3.11",
   "language": "python",
   "name": "python3"
  },
  "language_info": {
   "codemirror_mode": {
    "name": "ipython",
    "version": 3
   },
   "file_extension": ".py",
   "mimetype": "text/x-python",
   "name": "python",
   "nbconvert_exporter": "python",
   "pygments_lexer": "ipython3",
   "version": "3.11.11"
  }
 },
 "nbformat": 4,
 "nbformat_minor": 5
}
